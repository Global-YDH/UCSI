{
 "cells": [
  {
   "cell_type": "code",
   "execution_count": 34,
   "id": "484181ff",
   "metadata": {},
   "outputs": [
    {
     "name": "stdout",
     "output_type": "stream",
     "text": [
      "[LightGBM] [Warning] Found whitespace in feature_names, replace with underlines\n",
      "[LightGBM] [Info] Auto-choosing row-wise multi-threading, the overhead of testing was 0.000020 seconds.\n",
      "You can set `force_row_wise=true` to remove the overhead.\n",
      "And if memory is not enough, you can set `force_col_wise=true`.\n",
      "[LightGBM] [Info] Total Bins 71\n",
      "[LightGBM] [Info] Number of data points in the train set: 7000, number of used features: 2\n",
      "[LightGBM] [Info] Start training from score 55.399714\n",
      "R-square score RF: 0.98\n",
      "R-square score LGBM: 0.99\n"
     ]
    }
   ],
   "source": [
    "import pandas as pd\n",
    "import numpy as np\n",
    "import matplotlib.pyplot as plt\n",
    "import seaborn as sns\n",
    "from sklearn.linear_model import LinearRegression\n",
    "from sklearn.model_selection import train_test_split\n",
    "from sklearn import metrics\n",
    "from lightgbm import LGBMRegressor\n",
    "from sklearn.ensemble import RandomForestRegressor\n",
    "from sklearn.metrics import r2_score\n",
    "\n",
    "df = pd.read_csv(\"./Student_Performance.csv\")\n",
    "\n",
    "X = df.iloc[:,:2]\n",
    "y = df.iloc[:,-1]\n",
    "\n",
    "X_train, X_test, y_train, y_test = train_test_split(X,y, train_size = 0.7, random_state = 42)\n",
    "\n",
    "RF = RandomForestRegressor()\n",
    "LGB = LGBMRegressor()\n",
    "\n",
    "RF.fit(X_train, y_train)\n",
    "RF_pred = RF.predict(X_test)\n",
    "\n",
    "LGB.fit(X_train, y_train)\n",
    "LGB_pred = LGB.predict(X_test)\n",
    "\n",
    "\n",
    "print(\"R-square score RF: {:.2f}\".format( r2_score(RF_pred,y_test)))\n",
    "print(\"R-square score LGBM: {:.2f}\".format( r2_score(LGB_pred,y_test)))"
   ]
  },
  {
   "cell_type": "code",
   "execution_count": 35,
   "id": "5752d04f",
   "metadata": {},
   "outputs": [],
   "source": [
    "import pickle\n",
    "pickle_out = open(\"RF.pkl\",\"wb\")\n",
    "pickle.dump(RF, pickle_out)\n",
    "pickle_out.close()"
   ]
  },
  {
   "cell_type": "code",
   "execution_count": 37,
   "id": "a91c692a",
   "metadata": {},
   "outputs": [],
   "source": [
    "import pickle\n",
    "pickle_out = open(\"LGBM.pkl\",\"wb\")\n",
    "pickle.dump(LGB, pickle_out)\n",
    "pickle_out.close()"
   ]
  },
  {
   "cell_type": "code",
   "execution_count": 40,
   "id": "df10e49c",
   "metadata": {},
   "outputs": [
    {
     "name": "stderr",
     "output_type": "stream",
     "text": [
      "ERROR: Could not find a version that satisfies the requirement pickle (from versions: none)\n",
      "ERROR: No matching distribution found for pickle\n"
     ]
    }
   ],
   "source": [
    "!pip install pickle"
   ]
  }
 ],
 "metadata": {
  "kernelspec": {
   "display_name": "UCSI",
   "language": "python",
   "name": "ucsi"
  },
  "language_info": {
   "codemirror_mode": {
    "name": "ipython",
    "version": 3
   },
   "file_extension": ".py",
   "mimetype": "text/x-python",
   "name": "python",
   "nbconvert_exporter": "python",
   "pygments_lexer": "ipython3",
   "version": "3.9.0"
  }
 },
 "nbformat": 4,
 "nbformat_minor": 5
}
